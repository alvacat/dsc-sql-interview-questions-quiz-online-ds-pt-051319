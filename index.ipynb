{
 "cells": [
  {
   "cell_type": "markdown",
   "metadata": {},
   "source": [
    "# SQL Interview Questions  - Quiz\n",
    "\n",
    "## Introduction\n",
    "\n",
    "In this lesson, we'll go through a short quiz containing the types of questions about SQL and relational databases that you can expect to see in an interview. \n",
    "\n",
    "\n",
    "\n",
    "## SQL Interview Questions\n",
    "\n",
    "This quiz contains questions on topics you can expect to see in an interview pertaining to SQL and Relational Databases. Some of them are multiple choice, while some are short answer. For these short answer questions, double click on the Jupyter Notebook and type your answer below the line. \n",
    "\n",
    "## Question 1\n",
    "\n",
    "what are the 4 main datatypes in SQLite3? Can we use other common types from other kinds of SQL?\n",
    "\n",
    "Type your answer below this line:\n",
    "_______________________________________________________________________________________________________________________________\n",
    "The datatypes in SQLite3 are `text`, `real`, `blob`, and `integer`. `Text` is for strings, `real` is for floating point numbers, `integer` is for integers and booleans, and `blob` is for everything else. We can use other common types but they'll be treated as one of those four.  \n",
    "\n",
    "\n",
    "\n",
    "\n",
    "## Question 2\n",
    "\n",
    "Explain the relationship between **Primary Keys** and **Foreign Keys**.\n",
    "\n",
    "Type your answer below this line:\n",
    "_______________________________________________________________________________________________________________________________\n",
    "\n",
    "**Primary keys** are the main (i.e. unique identifier) keys for the current table.  **Foreign Keys** are the columns in other tables.  One table's **primary key** counts as a **foreign key** for a different table.  Typically, when using the `JOIN` function, one table's **primary key** will be matched up with a column from the other table (i.e. the **foreign key**) so that the tables can be combined.\n",
    "\n",
    "\n",
    "\n",
    "## Question 3\n",
    "\n",
    "Explain the different types of relationships entities can have in a SQL database. \n",
    "\n",
    "Type your answer below this line:\n",
    "_______________________________________________________________________________________________________________________________\n",
    "\n",
    "They can be one-to-one, one-to-many, and many-to-many. In a one-to-one relationship, tables only have one column in common. When the two tables are joined, there will only be one row for each unique person, object, or whatever else the primary key represents.  In a one-to-many relationship, one row in a table can match with multiple rows in a second table.  For example, if one table represents customers and another table represents orders they've made, then each customer may make several orders.  That means that, any one customer in the first table may match up with multiple rows (aka orders) in the second table.  In a many-to-many relationship, multiple rows from two different tables match up.  For example, a product list table and an order table will have a lot of overlap since each order may have multiple products as well as each product being part of multiple orders.\n",
    "\n",
    "\n",
    "## Question 4\n",
    "\n",
    "Explain the various types of JOINs possible with SQL. \n",
    "\n",
    "Type your answer below this line:\n",
    "_______________________________________________________________________________________________________________________________\n",
    "The types of `JOIN`s are inner, outer, left, and right.  Inner joins only use the data entries that are present in both tables.  Outer joins use all of the entries, whether or not they're in both tables.  Left joins use all of the entries from the first table as well as any entries that the second table has in common.  Right joins are similar, but they use all of the entries from the second table.\n",
    "\n",
    "Example:"
   ]
  },
  {
   "cell_type": "markdown",
   "metadata": {},
   "source": [
    "|Table A |  .  |Table B  |\n",
    "|--------|-----|---------|\n",
    "|John, 37|  .  |John, CA |\n",
    "|Sara, 4 |  .  |Allen, AZ|\n",
    "|Max, 16 |  .  |Sara, NM |"
   ]
  },
  {
   "cell_type": "markdown",
   "metadata": {},
   "source": [
    "__Inner Join of Tables A and B__:  \n",
    "John, 37, CA  \n",
    "Sara, 4, NM  \n",
    "  \n",
    "__Outer Join of Tables A and B__:  \n",
    "John, 37, CA  \n",
    "Sara, 4, NM  \n",
    "Max, 16, `NaN`  \n",
    "Allen, `NaN`, AZ  \n",
    "  \n",
    "__Left Join of Tables A and B__:  \n",
    "John, 37, CA  \n",
    "Sara, 4, NM  \n",
    "Max, 16, `NaN`  \n",
    "\n",
    "__Right Join of Tables A and B__:  \n",
    "John, 37, CA  \n",
    "Allen, `NaN`, AZ  \n",
    "Sara, 16, NM  \n"
   ]
  },
  {
   "cell_type": "markdown",
   "metadata": {},
   "source": [
    "## Question 5\n",
    "\n",
    "Explain the relationship between Aggregate functions and GROUP BY statements.\n",
    "\n",
    "Type your answer below this line:\n",
    "_______________________________________________________________________________________________________________________________\n",
    "`Group By` combines all rows for each unique value in a given column so that we can use aggregate functions (like sum, mean, or anything that uses a column of numbers to find one numerical output).   An example:  Say we have a dataframe where each row includes information like the country a person lives in and what their level of education is. We could use `GROUP BY` to combine all of the rows for each country and then we could use an aggregate function (like sum) to find the total number of adults with colleges degrees in each country.\n",
    "\n",
    "\n",
    "## Question 6\n",
    "\n",
    "What role do Associative Entities play (JOIN Tables) in many-to-many JOINs?\n",
    "\n",
    "\n",
    "Type your answer below this line:\n",
    "_______________________________________________________________________________________________________________________________\n",
    "They're a go-between for the two tables we want to join (if it's a many-to-many join).  Associative entities keep track of the relationship between the two tables and how their primary/foreign keys relate.\n",
    "\n",
    "\n",
    "## Summary\n",
    "\n",
    "In this lesson, we practiced answering open-ended interview questions for SQL and Relational Databases. "
   ]
  }
 ],
 "metadata": {
  "kernelspec": {
   "display_name": "Python 3",
   "language": "python",
   "name": "python3"
  },
  "language_info": {
   "codemirror_mode": {
    "name": "ipython",
    "version": 3
   },
   "file_extension": ".py",
   "mimetype": "text/x-python",
   "name": "python",
   "nbconvert_exporter": "python",
   "pygments_lexer": "ipython3",
   "version": "3.7.3"
  }
 },
 "nbformat": 4,
 "nbformat_minor": 2
}
